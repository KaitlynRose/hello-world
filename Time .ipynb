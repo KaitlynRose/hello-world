{
 "cells": [
  {
   "cell_type": "code",
   "execution_count": null,
   "metadata": {},
   "outputs": [],
   "source": [
    "import time\n",
    "time.time()"
   ]
  },
  {
   "cell_type": "code",
   "execution_count": null,
   "metadata": {},
   "outputs": [],
   "source": [
    "import time\n",
    "def calcProd():\n",
    "    product = 1\n",
    "    for i in range(1,100000):\n",
    "        product = product* i\n",
    "    return product\n",
    "\n",
    "startTime = time.time()\n",
    "prod = calcProd()\n",
    "endtime = time.time()\n",
    "print (\"the result is %s digitd long.\" % (len(str(prod))))\n",
    "print(\"took %s seconds to calculate.\" % (endtime - startTime))"
   ]
  },
  {
   "cell_type": "code",
   "execution_count": null,
   "metadata": {},
   "outputs": [],
   "source": [
    "#sleep\n",
    "import time\n",
    "for i in range(5):\n",
    "    print(\"Tick\")\n",
    "    time.sleep(1)\n",
    "    print(\"Tock\")\n",
    "    time.sleep(1)\n",
    "    "
   ]
  },
  {
   "cell_type": "code",
   "execution_count": null,
   "metadata": {},
   "outputs": [],
   "source": [
    "import time\n",
    "now = time.time()\n",
    "now\n",
    "round(now)"
   ]
  },
  {
   "cell_type": "code",
   "execution_count": null,
   "metadata": {},
   "outputs": [],
   "source": [
    "import time\n",
    "\n",
    "print(\"Press ENTER to begin. Afterwards, press Enter to 'click'the stopwatch. Press Ctrl-C to quit\")\n",
    "input()\n",
    "print(\"started\")\n",
    "startTime = time.time()\n",
    "lastTime = startTime\n",
    "lapNum = 1\n",
    "try:\n",
    "    while True:\n",
    "        input()\n",
    "        lapTime = round (time.time() -lastTime,2)\n",
    "        totalTime = round(time.time() - startTime, 2)\n",
    "        print(\"lap #%s: %s (%s)\" % (lapNum, totalTime, lapTime),end='')\n",
    "        lapNum += 1\n",
    "        lastTime = time.time()\n",
    "except KeyboardInterrupt:\n",
    "    print(\"\\nDone.\")\n",
    "\n",
    "\n"
   ]
  },
  {
   "cell_type": "code",
   "execution_count": 2,
   "metadata": {},
   "outputs": [
    {
     "data": {
      "text/plain": [
       "datetime.datetime(2019, 3, 27, 15, 27, 15, 540481)"
      ]
     },
     "execution_count": 2,
     "metadata": {},
     "output_type": "execute_result"
    }
   ],
   "source": [
    "import datetime\n",
    "datetime.datetime.now()"
   ]
  },
  {
   "cell_type": "code",
   "execution_count": 6,
   "metadata": {},
   "outputs": [
    {
     "data": {
      "text/plain": [
       "datetime.datetime(2019, 3, 13, 15, 15)"
      ]
     },
     "execution_count": 6,
     "metadata": {},
     "output_type": "execute_result"
    }
   ],
   "source": [
    "import datetime\n",
    "\n",
    "mar13th = datetime.datetime(2019,3,13,15,13,0)\n",
    "aboutThrityYears= datetime.timedelta(seconds = 60*2)\n",
    "mar13th + (aboutThrityYears)"
   ]
  },
  {
   "cell_type": "code",
   "execution_count": null,
   "metadata": {},
   "outputs": [],
   "source": [
    "import datetime\n",
    "import time\n",
    "halloween2019 = datetime.datetime(2019,10,31,0,0,0)\n",
    "while datetime.datetime.now() < halloween2019:\n",
    "    time.sleep()\n",
    "\n"
   ]
  },
  {
   "cell_type": "code",
   "execution_count": null,
   "metadata": {},
   "outputs": [],
   "source": [
    "import datetime\n",
    "import time"
   ]
  },
  {
   "cell_type": "code",
   "execution_count": null,
   "metadata": {},
   "outputs": [],
   "source": [
    "import datetime, time\n",
    "\n",
    "startTime= datetime.datetime(2019,3,25,15,30,0)\n"
   ]
  },
  {
   "cell_type": "code",
   "execution_count": null,
   "metadata": {},
   "outputs": [],
   "source": []
  },
  {
   "cell_type": "code",
   "execution_count": null,
   "metadata": {},
   "outputs": [],
   "source": []
  }
 ],
 "metadata": {
  "kernelspec": {
   "display_name": "Python 3",
   "language": "python",
   "name": "python3"
  },
  "language_info": {
   "codemirror_mode": {
    "name": "ipython",
    "version": 3
   },
   "file_extension": ".py",
   "mimetype": "text/x-python",
   "name": "python",
   "nbconvert_exporter": "python",
   "pygments_lexer": "ipython3",
   "version": "3.6.5"
  }
 },
 "nbformat": 4,
 "nbformat_minor": 2
}
