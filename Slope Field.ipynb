{
 "cells": [
  {
   "cell_type": "code",
   "execution_count": 14,
   "metadata": {},
   "outputs": [
    {
     "ename": "NameError",
     "evalue": "name 'qiu' is not defined",
     "output_type": "error",
     "traceback": [
      "\u001b[1;31m---------------------------------------------------------------------------\u001b[0m",
      "\u001b[1;31mNameError\u001b[0m                                 Traceback (most recent call last)",
      "\u001b[1;32m<ipython-input-14-2a6814f89431>\u001b[0m in \u001b[0;36m<module>\u001b[1;34m()\u001b[0m\n\u001b[0;32m     29\u001b[0m         \u001b[0mc\u001b[0m\u001b[1;33m.\u001b[0m\u001b[0mmove\u001b[0m\u001b[1;33m(\u001b[0m\u001b[0mline1\u001b[0m\u001b[1;33m,\u001b[0m\u001b[0mh\u001b[0m\u001b[1;33m,\u001b[0m\u001b[0mv\u001b[0m\u001b[1;33m)\u001b[0m\u001b[1;33m\u001b[0m\u001b[0m\n\u001b[0;32m     30\u001b[0m         \u001b[0mtime\u001b[0m\u001b[1;33m.\u001b[0m\u001b[0msleep\u001b[0m\u001b[1;33m(\u001b[0m\u001b[1;36m.05\u001b[0m\u001b[1;33m)\u001b[0m\u001b[1;33m\u001b[0m\u001b[0m\n\u001b[1;32m---> 31\u001b[1;33m         \u001b[0mqiu\u001b[0m\u001b[1;33m.\u001b[0m\u001b[0mupdate\u001b[0m\u001b[1;33m(\u001b[0m\u001b[1;33m)\u001b[0m\u001b[1;33m\u001b[0m\u001b[0m\n\u001b[0m\u001b[0;32m     32\u001b[0m \u001b[1;33m\u001b[0m\u001b[0m\n\u001b[0;32m     33\u001b[0m \u001b[1;31m# line1 = c.create_line(5,600-10,50,600-100)\u001b[0m\u001b[1;33m\u001b[0m\u001b[1;33m\u001b[0m\u001b[0m\n",
      "\u001b[1;31mNameError\u001b[0m: name 'qiu' is not defined"
     ]
    }
   ],
   "source": [
    "from tkinter import *\n",
    "import time\n",
    "\n",
    "#----------- Gui Setup -----------------\n",
    "gui = Tk()\n",
    "gui.geometry(\"600x600\")\n",
    "c = Canvas(gui,width = 600,height = 600)\n",
    "c.pack()\n",
    "#--------------------------------------- \n",
    "\n",
    "def dy_dx(x,y):\n",
    "    value = y/x\n",
    "    return value\n",
    "\n",
    "def short_line2(x,y,m):\n",
    "    delta_x = 5\n",
    "    m_x = 1*delta_x\n",
    "    m_y = 1*m\n",
    "    ret_x1 = x-m_x\n",
    "    ret_y1 = y-m_y\n",
    "    ret_x2 = x+m_x\n",
    "    \n",
    "def short_line(x,y,m):\n",
    "    return x,y,x+15,y+15\n",
    "\n",
    "line1 = c.create_line(0,0,10,10)\n",
    "for h in range(10):\n",
    "    for v in range(10):\n",
    "        c.move(line1,h,v)\n",
    "        time.sleep(.05)\n",
    "        qiu.update()\n",
    "\n",
    "# line1 = c.create_line(5,600-10,50,600-100)\n",
    "# ovl = c.create_oval(20,600-20,60,600-100)\n",
    "\n",
    "\n",
    "\n",
    "gui.title(\"Slope Field\")\n",
    "gui.mainloop()\n"
   ]
  },
  {
   "cell_type": "code",
   "execution_count": null,
   "metadata": {},
   "outputs": [],
   "source": []
  }
 ],
 "metadata": {
  "kernelspec": {
   "display_name": "Python 3",
   "language": "python",
   "name": "python3"
  },
  "language_info": {
   "codemirror_mode": {
    "name": "ipython",
    "version": 3
   },
   "file_extension": ".py",
   "mimetype": "text/x-python",
   "name": "python",
   "nbconvert_exporter": "python",
   "pygments_lexer": "ipython3",
   "version": "3.6.5"
  }
 },
 "nbformat": 4,
 "nbformat_minor": 2
}
