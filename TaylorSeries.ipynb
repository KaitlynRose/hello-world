{
 "cells": [
  {
   "cell_type": "code",
   "execution_count": 11,
   "metadata": {},
   "outputs": [
    {
     "name": "stdout",
     "output_type": "stream",
     "text": [
      "Enter x .523333\n",
      "Sinx 0.4997698139237098\n"
     ]
    }
   ],
   "source": [
    "#sinx\n",
    "import math\n",
    "x = float(input(\"Enter x \"))\n",
    "sinx = 0\n",
    "for k in range(20):\n",
    "    sinx = sinx + (-1)**k*(x**(2*k+1))/math.factorial(2*k+1)\n",
    "print(\"Sinx\", sinx)"
   ]
  },
  {
   "cell_type": "code",
   "execution_count": 14,
   "metadata": {},
   "outputs": [
    {
     "name": "stdout",
     "output_type": "stream",
     "text": [
      "Enter x 3.14\n",
      "Cosx -0.9999987317275388\n"
     ]
    }
   ],
   "source": [
    "#cosx\n",
    "import math\n",
    "x = float(input(\"Enter x \"))\n",
    "cosx = 0\n",
    "for k in range(20):\n",
    "    cosx = cosx + (-1)**k*(x**(2*k))/math.factorial(2*k)\n",
    "print(\"Cosx\", cosx)"
   ]
  },
  {
   "cell_type": "code",
   "execution_count": 5,
   "metadata": {},
   "outputs": [
    {
     "name": "stdout",
     "output_type": "stream",
     "text": [
      "0.9092974268256817\n"
     ]
    }
   ],
   "source": [
    "#Trig\n",
    "import math\n",
    "def sin(x):\n",
    "    sinx = 0\n",
    "    for k in range(20):\n",
    "        sinx = sinx + (-1)**k*(x**(2*k+1))/math.factorial(2*k+1)\n",
    "    return sinx\n",
    "print(sin(2))\n",
    "def cos(x):\n",
    "    cosx = 0\n",
    "    for k in range(20):\n",
    "        cosx = cosx + (-1)**k*(x**(2*k))/math.factorial(2*k)\n",
    "    return cosx\n",
    "def tan(x):\n",
    "    tanx = sin(x)"
   ]
  },
  {
   "cell_type": "code",
   "execution_count": null,
   "metadata": {},
   "outputs": [],
   "source": []
  }
 ],
 "metadata": {
  "kernelspec": {
   "display_name": "Python 3",
   "language": "python",
   "name": "python3"
  },
  "language_info": {
   "codemirror_mode": {
    "name": "ipython",
    "version": 3
   },
   "file_extension": ".py",
   "mimetype": "text/x-python",
   "name": "python",
   "nbconvert_exporter": "python",
   "pygments_lexer": "ipython3",
   "version": "3.6.5"
  }
 },
 "nbformat": 4,
 "nbformat_minor": 2
}
