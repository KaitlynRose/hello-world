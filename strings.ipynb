{
 "cells": [
  {
   "cell_type": "code",
   "execution_count": 21,
   "metadata": {},
   "outputs": [],
   "source": [
    "full_name = \"Kaitlyn Miller\"\n",
    "name2 = \"Samson\""
   ]
  },
  {
   "cell_type": "code",
   "execution_count": 29,
   "metadata": {},
   "outputs": [
    {
     "name": "stdout",
     "output_type": "stream",
     "text": [
      "Kaitlyn\n",
      "Miller\n",
      "Kaitlyn Miller\n",
      "Miller, Kaitlyn\n"
     ]
    }
   ],
   "source": [
    "print (full_name[:7])\n",
    "print (full_name[8:])\n",
    "print (full_name)\n",
    "print (full_name[8:]+\", \"+full_name[:7])"
   ]
  },
  {
   "cell_type": "code",
   "execution_count": 37,
   "metadata": {},
   "outputs": [
    {
     "name": "stdout",
     "output_type": "stream",
     "text": [
      "Andy Miller boy\n",
      "Carla Miller girl\n",
      "Kyle Miller boy\n",
      "Kaitlyn Miller girl\n",
      "Bethany Miller girl\n",
      "Hannah Miller girl\n"
     ]
    }
   ],
   "source": [
    "for name in [\"Andy\", \"Carla\", \"Kyle\", \"Kaitlyn\", \"Bethany\", \"Hannah\"]:\n",
    "    if name in \"Carla Kaitlyn Bethany Hannah\":\n",
    "        boygirl = \"girl\"\n",
    "    else:\n",
    "        boygirl = \"boy\"    \n",
    "    print(name + \" Miller \"+boygirl)"
   ]
  },
  {
   "cell_type": "code",
   "execution_count": 43,
   "metadata": {},
   "outputs": [
    {
     "name": "stdout",
     "output_type": "stream",
     "text": [
      "Enter a number 864\n",
      "positive\n"
     ]
    }
   ],
   "source": [
    "number = int(input(\"Enter a number \"))\n",
    "if number > 0:\n",
    "    print(\"positive\")\n",
    "else:\n",
    "    print(\"negative\")"
   ]
  },
  {
   "cell_type": "code",
   "execution_count": null,
   "metadata": {},
   "outputs": [],
   "source": []
  }
 ],
 "metadata": {
  "kernelspec": {
   "display_name": "Python 3",
   "language": "python",
   "name": "python3"
  },
  "language_info": {
   "codemirror_mode": {
    "name": "ipython",
    "version": 3
   },
   "file_extension": ".py",
   "mimetype": "text/x-python",
   "name": "python",
   "nbconvert_exporter": "python",
   "pygments_lexer": "ipython3",
   "version": "3.6.5"
  }
 },
 "nbformat": 4,
 "nbformat_minor": 2
}
