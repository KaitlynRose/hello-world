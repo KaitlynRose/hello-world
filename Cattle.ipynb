{
 "cells": [
  {
   "cell_type": "code",
   "execution_count": 14,
   "metadata": {},
   "outputs": [],
   "source": [
    "class Cattle(object):\n",
    "    def __init__(self, tag, name, breed, cow_class, birth, weight, brand):\n",
    "        self.tag = tag\n",
    "        self.name = name\n",
    "        self.breed = breed\n",
    "        self.cow_class = cow_class\n",
    "        self.birth = birth\n",
    "        self.weight = weight\n",
    "        self.brand = brand\n",
    "cow = Cattle(\"26\",\"Bessie\",\"Angus\",\"Heifer\", 2017, 220,\"Circle K\")\n",
    "herd=[]\n",
    "herd.append(cow)\n",
    "cow = Cattle(\"40\",\"Fred\",\"Angus\",\"Bull\", 2011, 1200,\"Circle K\")\n",
    "herd.append(cow)\n",
    "cow = Cattle(\"43\",\"Jess\",\"Angus\",\"Heifer\", 2015, 240,\"Circle K\")\n",
    "herd.append(cow)\n",
    "cow = Cattle(\"36\",\"Hank\",\"Angus\",\"Bull\", 2012, 1220,\"Circle K\")\n",
    "herd.append(cow)"
   ]
  },
  {
   "cell_type": "code",
   "execution_count": 17,
   "metadata": {},
   "outputs": [
    {
     "name": "stdout",
     "output_type": "stream",
     "text": [
      "Bessie 26 Angus\n",
      "Fred 40 Angus\n",
      "Jess 43 Angus\n",
      "Hank 26 Angus\n"
     ]
    }
   ],
   "source": [
    "herd_size = len(herd)\n",
    "for c in range(herd_size):\n",
    "    print(herd[c].name,herd[c].tag,herd[c].breed)"
   ]
  },
  {
   "cell_type": "code",
   "execution_count": 18,
   "metadata": {},
   "outputs": [
    {
     "name": "stdout",
     "output_type": "stream",
     "text": [
      "What is its tage? 26\n",
      "What is its name? hank\n",
      "What is its breed? angus\n",
      "What is its class? bull\n",
      "What is its birth year? 2012\n",
      "What is its weight? 1220\n",
      "What is its brand? circle k\n",
      "<__main__.Cattle object at 0x0000028E388A4978>\n"
     ]
    }
   ],
   "source": [
    "a = input(\"What is its tage? \")\n",
    "b= input(\"What is its name? \")\n",
    "c= input(\"What is its breed? \")\n",
    "d=input(\"What is its class? \")\n",
    "e=int(input(\"What is its birth year? \"))\n",
    "f=int(input(\"What is its weight? \")) \n",
    "g=input(\"What is its brand? \")\n",
    "cow=Cattle(a,b,c,d,e,f,g)\n",
    "print (cow)"
   ]
  },
  {
   "cell_type": "code",
   "execution_count": null,
   "metadata": {},
   "outputs": [],
   "source": []
  }
 ],
 "metadata": {
  "kernelspec": {
   "display_name": "Python 3",
   "language": "python",
   "name": "python3"
  },
  "language_info": {
   "codemirror_mode": {
    "name": "ipython",
    "version": 3
   },
   "file_extension": ".py",
   "mimetype": "text/x-python",
   "name": "python",
   "nbconvert_exporter": "python",
   "pygments_lexer": "ipython3",
   "version": "3.6.5"
  }
 },
 "nbformat": 4,
 "nbformat_minor": 2
}
