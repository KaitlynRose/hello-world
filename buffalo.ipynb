{
 "cells": [
  {
   "cell_type": "code",
   "execution_count": 6,
   "metadata": {},
   "outputs": [
    {
     "name": "stdout",
     "output_type": "stream",
     "text": [
      "buffalo population 200 of type Adult Males\n",
      "buffalo population 200 of type Adult Males\n"
     ]
    }
   ],
   "source": [
    "population = 200\n",
    "cohort = \"Adult Males\"\n",
    "\n",
    "print(\"buffalo population {} of type {}\".format(population,cohort))\n",
    "print(f\"buffalo population {population} of type {cohort}\")\n",
    "\n"
   ]
  },
  {
   "cell_type": "code",
   "execution_count": 12,
   "metadata": {},
   "outputs": [
    {
     "name": "stdout",
     "output_type": "stream",
     "text": [
      "       Herd   Adult   Adult    Male   Female\n",
      "Time   Size   Males   Female   Calves Calves\n",
      "0      0      0     0     0     0\n",
      "1      10      15     20     30     50\n",
      "2      20      30     40     60     100\n",
      "3      30      45     60     90     150\n",
      "4      40      60     80     120     200\n",
      "5      50      75     100     150     250\n",
      "6      60      90     120     180     300\n",
      "7      70      105     140     210     350\n",
      "8      80      120     160     240     400\n",
      "9      90      135     180     270     450\n"
     ]
    }
   ],
   "source": [
    "print(\"       Herd   Adult   Adult    Male   Female\")\n",
    "print(\"Time   Size   Males   Female   Calves Calves\")\n",
    "for i in range(10):\n",
    "    print(f\"{i}      {i*10}      {i*15}     {i*20}     {i*30}     {i*50}\")\n",
    "print(\"{}     {}    \")"
   ]
  },
  {
   "cell_type": "code",
   "execution_count": null,
   "metadata": {},
   "outputs": [],
   "source": []
  },
  {
   "cell_type": "code",
   "execution_count": null,
   "metadata": {},
   "outputs": [],
   "source": []
  }
 ],
 "metadata": {
  "kernelspec": {
   "display_name": "Python 3",
   "language": "python",
   "name": "python3"
  },
  "language_info": {
   "codemirror_mode": {
    "name": "ipython",
    "version": 3
   },
   "file_extension": ".py",
   "mimetype": "text/x-python",
   "name": "python",
   "nbconvert_exporter": "python",
   "pygments_lexer": "ipython3",
   "version": "3.6.5"
  }
 },
 "nbformat": 4,
 "nbformat_minor": 2
}
