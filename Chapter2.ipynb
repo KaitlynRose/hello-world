{
 "cells": [
  {
   "cell_type": "code",
   "execution_count": 2,
   "metadata": {},
   "outputs": [
    {
     "name": "stdout",
     "output_type": "stream",
     "text": [
      "All work and no play makes Jack a dull boy\n"
     ]
    }
   ],
   "source": [
    "A = str(\"All\")\n",
    "w = str(\"work\")\n",
    "a = str(\"and\")\n",
    "n = str(\"no\")\n",
    "p = str(\"play\")\n",
    "m = str(\"makes\")\n",
    "j = str(\"Jack\")\n",
    "_a = str(\"a\")\n",
    "d = str(\"dull\")\n",
    "b = str(\"boy\")\n",
    "print (A,w,a,n,p,m,j,_a,d,b)"
   ]
  },
  {
   "cell_type": "code",
   "execution_count": 3,
   "metadata": {},
   "outputs": [
    {
     "data": {
      "text/plain": [
       "-6"
      ]
     },
     "execution_count": 3,
     "metadata": {},
     "output_type": "execute_result"
    }
   ],
   "source": [
    "6*(1-2)"
   ]
  },
  {
   "cell_type": "code",
   "execution_count": null,
   "metadata": {},
   "outputs": [],
   "source": []
  },
  {
   "cell_type": "code",
   "execution_count": 33,
   "metadata": {},
   "outputs": [
    {
     "ename": "NameError",
     "evalue": "name 'bruce' is not defined",
     "output_type": "error",
     "traceback": [
      "\u001b[1;31m---------------------------------------------------------------------------\u001b[0m",
      "\u001b[1;31mNameError\u001b[0m                                 Traceback (most recent call last)",
      "\u001b[1;32m<ipython-input-33-844326c34960>\u001b[0m in \u001b[0;36m<module>\u001b[1;34m()\u001b[0m\n\u001b[1;32m----> 1\u001b[1;33m \u001b[0mbruce\u001b[0m \u001b[1;33m+\u001b[0m \u001b[1;36m4\u001b[0m\u001b[1;33m\u001b[0m\u001b[0m\n\u001b[0m",
      "\u001b[1;31mNameError\u001b[0m: name 'bruce' is not defined"
     ]
    }
   ],
   "source": [
    "bruce + 4"
   ]
  },
  {
   "cell_type": "code",
   "execution_count": 34,
   "metadata": {},
   "outputs": [
    {
     "data": {
      "text/plain": [
       "10"
      ]
     },
     "execution_count": 34,
     "metadata": {},
     "output_type": "execute_result"
    }
   ],
   "source": [
    "bruce = 6\n",
    "bruce +4"
   ]
  },
  {
   "cell_type": "code",
   "execution_count": 9,
   "metadata": {},
   "outputs": [
    {
     "name": "stdout",
     "output_type": "stream",
     "text": [
      "How many years? 10\n",
      "108243.21599999999\n"
     ]
    }
   ],
   "source": [
    "P = 10000\n",
    "r = .08\n",
    "n = 12\n",
    "t = int( input(\"How many years? \"))\n",
    "A = P * (1 + (r/n)) ** n*t\n",
    "print (A)"
   ]
  },
  {
   "cell_type": "code",
   "execution_count": null,
   "metadata": {},
   "outputs": [],
   "source": [
    "#exersize 5 but in class"
   ]
  },
  {
   "cell_type": "code",
   "execution_count": 2,
   "metadata": {},
   "outputs": [
    {
     "name": "stdout",
     "output_type": "stream",
     "text": [
      "5\n"
     ]
    }
   ],
   "source": [
    "current_time = 2\n",
    "time_until_alarm = 51 % 24\n",
    "print (current_time + time_until_alarm)"
   ]
  },
  {
   "cell_type": "code",
   "execution_count": 1,
   "metadata": {},
   "outputs": [
    {
     "name": "stdout",
     "output_type": "stream",
     "text": [
      "What is the current time? 2\n",
      "How many hours until the alarm goes off? 47\n"
     ]
    }
   ],
   "source": [
    "current_time= int( input(\"What is the current time? \"))\n",
    "hours = int( input(\"How many hours until the alarm goes off? \"))\n",
    "time_at_alarm = hours % 24\n",
    "print (current_time + time_at_alarm)"
   ]
  },
  {
   "cell_type": "code",
   "execution_count": 3,
   "metadata": {},
   "outputs": [],
   "source": [
    "#calculate alarm time\n",
    "#think like a computer scientist ex. 9 "
   ]
  },
  {
   "cell_type": "code",
   "execution_count": 12,
   "metadata": {},
   "outputs": [
    {
     "name": "stdout",
     "output_type": "stream",
     "text": [
      "Enter the current time 6\n",
      "Enter the hours in the future 9\n",
      "Set alarm for 3\n"
     ]
    }
   ],
   "source": [
    "current_time = int( input(\"Enter the current time \"))\n",
    "future_hours = int( input(\"Enter the hours in the future \"))\n",
    "alarm_set = (current_time +future_hours) % 24\n",
    "print (\"Set alarm for\", alarm_set)"
   ]
  },
  {
   "cell_type": "code",
   "execution_count": null,
   "metadata": {},
   "outputs": [],
   "source": [
    "r = float(.08)\n",
    "p = float(10000)\n",
    "n = float (12)\n",
    "years = float( input(\"Enter the number of years \"))\n",
    "interest_earned = p * (1 +(r/n)) ** n* years\n",
    "print (\"Interest earned \", interest_earned)"
   ]
  },
  {
   "cell_type": "code",
   "execution_count": null,
   "metadata": {},
   "outputs": [],
   "source": []
  }
 ],
 "metadata": {
  "kernelspec": {
   "display_name": "Python 3",
   "language": "python",
   "name": "python3"
  },
  "language_info": {
   "codemirror_mode": {
    "name": "ipython",
    "version": 3
   },
   "file_extension": ".py",
   "mimetype": "text/x-python",
   "name": "python",
   "nbconvert_exporter": "python",
   "pygments_lexer": "ipython3",
   "version": "3.6.5"
  }
 },
 "nbformat": 4,
 "nbformat_minor": 2
}
