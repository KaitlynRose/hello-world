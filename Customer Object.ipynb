{
 "cells": [
  {
   "cell_type": "code",
   "execution_count": 8,
   "metadata": {},
   "outputs": [
    {
     "name": "stdout",
     "output_type": "stream",
     "text": [
      "Fred Savage 1000.0\n",
      "Joe Cool 300.0\n",
      "Ima Student 200.0\n",
      "Fred Savage 1300.0\n"
     ]
    }
   ],
   "source": [
    "class Customer(object):\n",
    "    \"\"\"customer object has properties and methods\n",
    "        customer name *name* and account balance as *balance*\n",
    "        \n",
    "        methods:\n",
    "            withdrawal\n",
    "            deposit\n",
    "            \"\"\"\n",
    "    \n",
    "    def __init__(self, name, balance=0.0):\n",
    "        \"\"\"Return a Customer object whose name is *name* and starting balance is *balance*.\"\"\"\n",
    "        self.name = name\n",
    "        self.balance = balance\n",
    "        \n",
    "    def withdrawal(self,amount):\n",
    "        if amount > self.balance:\n",
    "            raise RuntimeError(\"Amount is greater than the avalible balance.\")\n",
    "        else:\n",
    "            self.balance -= amount\n",
    "        return self.balance\n",
    "    def deposit(self,amount):\n",
    "        self.balance += amount\n",
    "        return self.balance\n",
    "    \n",
    "custlist = []\n",
    "cust = Customer(\"Fred Savage\",1000.0)\n",
    "custlist.append(cust)\n",
    "cust = Customer(\"Joe Cool\",300.0)\n",
    "custlist.append(cust)\n",
    "cust = Customer(\"Ima Student\",200.0)\n",
    "custlist.append(cust)\n",
    "for cust in custlist:\n",
    "    print(cust.name, cust.balance)\n",
    "            \n",
    "custlist[0].deposit(300.0) \n",
    "print(custlist[0].name,custlist[0].balance)\n"
   ]
  },
  {
   "cell_type": "code",
   "execution_count": 9,
   "metadata": {},
   "outputs": [
    {
     "name": "stdout",
     "output_type": "stream",
     "text": [
      "Joe Cool 100.0\n"
     ]
    }
   ],
   "source": [
    "custlist[1].withdrawal(200)\n",
    "print(custlist[1].name,custlist[1].balance)"
   ]
  },
  {
   "cell_type": "code",
   "execution_count": null,
   "metadata": {},
   "outputs": [],
   "source": []
  }
 ],
 "metadata": {
  "kernelspec": {
   "display_name": "Python 3",
   "language": "python",
   "name": "python3"
  },
  "language_info": {
   "codemirror_mode": {
    "name": "ipython",
    "version": 3
   },
   "file_extension": ".py",
   "mimetype": "text/x-python",
   "name": "python",
   "nbconvert_exporter": "python",
   "pygments_lexer": "ipython3",
   "version": "3.6.5"
  }
 },
 "nbformat": 4,
 "nbformat_minor": 2
}
