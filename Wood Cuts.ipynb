{
 "cells": [
  {
   "cell_type": "code",
   "execution_count": 1,
   "metadata": {},
   "outputs": [
    {
     "name": "stdout",
     "output_type": "stream",
     "text": [
      "Board number:  Piece to Cut:  Stock Board:  Length Left:\n",
      "    1              6             1             2\n",
      "    2              6             2             2\n",
      "    3              5             3             3\n",
      "    4              5             4             3\n",
      "    5              5             5             3\n",
      "    6              2             5             1\n",
      "    7              2             6             6\n",
      "    8              2             6             4\n",
      "    9              2             6             2\n",
      "    10              3             7             5\n",
      "    11              3             7             2\n",
      "    12              3             8             5\n",
      "Waste = 20\n"
     ]
    }
   ],
   "source": [
    "#nextfit algorithm\n",
    "cut_leng = [6,6,5,5,5,2,2,2,2,3,3,3]\n",
    "board_num = 1\n",
    "board_size = 8\n",
    "board_leng = board_size\n",
    "total_cut = 0\n",
    "print (\"Board number:  Piece to Cut:  Stock Board:  Length Left:\")\n",
    "\n",
    "for stockboard,piece_to_cut in enumerate(cut_leng,start=1):\n",
    "    #accumulate the total length of board that are used\n",
    "    total_cut = total_cut + piece_to_cut\n",
    "    \n",
    "    if board_leng >= piece_to_cut:\n",
    "        #cut from same board\n",
    "        board_leng = board_leng - piece_to_cut\n",
    "    else:\n",
    "        #new board\n",
    "        board_num += 1\n",
    "    \n",
    "        board_leng = board_size -piece_to_cut\n",
    "    \n",
    "    print(\"   \",stockboard,\"            \",piece_to_cut,\"           \",board_num,\"           \",board_leng)\n",
    "\n",
    "total_waste = (board_num*board_size) - total_cut\n",
    "print(\"Waste =\", total_waste)\n",
    "\n",
    "    \n",
    "    \n",
    "    \n",
    "\n"
   ]
  },
  {
   "cell_type": "code",
   "execution_count": null,
   "metadata": {},
   "outputs": [],
   "source": []
  },
  {
   "cell_type": "code",
   "execution_count": 16,
   "metadata": {},
   "outputs": [
    {
     "data": {
      "text/plain": [
       "[{'Piece To Cut': 6, 'Board': 1, 'Starting Length': 8, 'Leftover Board': 2},\n",
       " {'Piece To Cut': 6, 'Board': 1, 'Starting Length': 8, 'Leftover Board': 2},\n",
       " {'Piece To Cut': 5, 'Board': 1, 'Starting Length': 8, 'Leftover Board': 3},\n",
       " {'Piece To Cut': 5, 'Board': 1, 'Starting Length': 8, 'Leftover Board': 3},\n",
       " {'Piece To Cut': 5, 'Board': 1, 'Starting Length': 8, 'Leftover Board': 3},\n",
       " {'Piece To Cut': 2, 'Board': 1, 'Starting Length': 8, 'Leftover Board': 6},\n",
       " {'Piece To Cut': 2, 'Board': 1, 'Starting Length': 8, 'Leftover Board': 6},\n",
       " {'Piece To Cut': 2, 'Board': 1, 'Starting Length': 8, 'Leftover Board': 6},\n",
       " {'Piece To Cut': 2, 'Board': 1, 'Starting Length': 8, 'Leftover Board': 6},\n",
       " {'Piece To Cut': 3, 'Board': 1, 'Starting Length': 8, 'Leftover Board': 5},\n",
       " {'Piece To Cut': 3, 'Board': 1, 'Starting Length': 8, 'Leftover Board': 5},\n",
       " {'Piece To Cut': 3, 'Board': 1, 'Starting Length': 8, 'Leftover Board': 5}]"
      ]
     },
     "execution_count": 16,
     "metadata": {},
     "output_type": "execute_result"
    }
   ],
   "source": [
    "#nextfit algorithm\n",
    "from tinydb import TinyDB,Query\n",
    "table = TinyDB('MyHerd.json')\n",
    "board = Query()\n",
    "\n",
    "board_num=1\n",
    "piece_in_list=1\n",
    "piece_list=[6,6,5,5,5,2,2,2,2,3,3,3]\n",
    "table.purge()\n",
    "for piecetocut in piece_list:\n",
    "    if piece_in_list== 1:\n",
    "        starting_leng=8\n",
    "        remainder= starting_leng - piecetocut\n",
    "        pice_in_list= piece_in_list + 1\n",
    "        table.insert({\"Piece To Cut\":piecetocut,\"Board\":board_num,\"Starting Length\":starting_leng,\"Leftover Board\":remainder})\n",
    "    else:\n",
    "        if remainder>= piecetocut:\n",
    "            starting_leng = remainder\n",
    "            remainder = starting_leng - piecetocut\n",
    "            table.insert({\"Piece To Cut\":piecetocut,\"board\":board_num,\"starting length\":starting_leng,\"reminder\":remainder})\n",
    "        else:\n",
    "            board_num= 1+ board_num\n",
    "            starting_leng = 8\n",
    "            remainder = starting_leng - piecetocut\n",
    "            table.insert({\"PTC\":piecetocut,\"board\":board_num,\"starting length\":starting_leng,\"reminder\":remainder})\n",
    "\n",
    "            \n",
    "table.all()"
   ]
  },
  {
   "cell_type": "code",
   "execution_count": null,
   "metadata": {},
   "outputs": [],
   "source": []
  },
  {
   "cell_type": "code",
   "execution_count": 11,
   "metadata": {},
   "outputs": [
    {
     "name": "stdout",
     "output_type": "stream",
     "text": [
      "Board number:  Piece to Cut:  Stock Board:  Length Left:\n",
      "    1              6             1             [2]\n",
      "    2              6             2             [2, 2]\n",
      "    3              5             3             [2, 2, 3]\n",
      "    4              5             4             [2, 2, 3, 3]\n",
      "    5              5             5             [2, 2, 3, 3, 3]\n",
      "    6              2             5             [0, 2, 3, 3, 3]\n",
      "    7              2             5             [0, 0, 3, 3, 3]\n",
      "    8              2             5             [0, 0, 1, 3, 3]\n",
      "    9              2             5             [0, 0, 1, 1, 3]\n",
      "    10              3             5             [0, 0, 1, 1, 0]\n",
      "    11              3             6             [0, 0, 1, 1, 0, 5]\n",
      "    12              3             6             [0, 0, 1, 1, 0, 2]\n",
      "Waste = 4\n"
     ]
    }
   ],
   "source": [
    "#firstfit algorithm\n",
    "cut_leng = [6,6,5,5,5,2,2,2,2,3,3,3]\n",
    "waste_list = []\n",
    "board_num = 0\n",
    "board_size = 8\n",
    "board_leng = board_size\n",
    "total_cut = 0\n",
    "print (\"Board number:  Piece to Cut:  Stock Board:  Length Left:\")\n",
    "\n",
    "for stockboard,piece_to_cut in enumerate(cut_leng,start=1):\n",
    "    #accumulate the total length of board that are used\n",
    "    total_cut = total_cut + piece_to_cut\n",
    "    cut_from_waste = False\n",
    "    for waste_num,waste_piece in enumerate(waste_list,start=0): \n",
    "        if waste_piece >= piece_to_cut:\n",
    "            #cut from a leftover piece and change length\n",
    "            waste_list[waste_num] = waste_piece -piece_to_cut\n",
    "            cut_from_waste = True\n",
    "            break\n",
    "            \n",
    "    if not cut_from_waste:\n",
    "        #new board\n",
    "        board_num += 1\n",
    "        waste_list.append(board_size-piece_to_cut)\n",
    "    \n",
    "    print(\"   \",stockboard,\"            \",piece_to_cut,\"           \",board_num,\"           \",waste_list)\n",
    "\n",
    "total_waste = (board_num*board_size) - total_cut\n",
    "print(\"Waste =\", total_waste)\n",
    "\n",
    "    \n",
    "    \n",
    "    \n",
    "\n"
   ]
  },
  {
   "cell_type": "code",
   "execution_count": null,
   "metadata": {},
   "outputs": [],
   "source": []
  }
 ],
 "metadata": {
  "kernelspec": {
   "display_name": "Python 3",
   "language": "python",
   "name": "python3"
  },
  "language_info": {
   "codemirror_mode": {
    "name": "ipython",
    "version": 3
   },
   "file_extension": ".py",
   "mimetype": "text/x-python",
   "name": "python",
   "nbconvert_exporter": "python",
   "pygments_lexer": "ipython3",
   "version": "3.6.5"
  }
 },
 "nbformat": 4,
 "nbformat_minor": 2
}
