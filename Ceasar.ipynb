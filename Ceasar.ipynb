{
 "cells": [
  {
   "cell_type": "code",
   "execution_count": 1,
   "metadata": {},
   "outputs": [
    {
     "name": "stdout",
     "output_type": "stream",
     "text": [
      "1> Enter Shift\n",
      "2> Enter Stretch\n",
      "3> Encode Message\n",
      "4> Decode Message\n",
      "Q> Quit\n",
      "Enter your choice: 1\n",
      "Enter Shift 3\n",
      "3\n",
      "1> Enter Shift\n",
      "2> Enter Stretch\n",
      "3> Encode Message\n",
      "4> Decode Message\n",
      "Q> Quit\n",
      "Enter your choice: q\n",
      "Q\n"
     ]
    }
   ],
   "source": [
    "from IPython.display import clear_output\n",
    "def menu():\n",
    "    clear_output\n",
    "    print(\"1> Enter Shift\")\n",
    "    print(\"2> Enter Stretch\")\n",
    "    print(\"3> Encode Message\")\n",
    "    print(\"4> Decode Message\")\n",
    "    print(\"Q> Quit\")\n",
    "    ch = input(\"Enter your choice: \")\n",
    "    return ch\n",
    "\n",
    "def get_shift():\n",
    "    #ask user for shift\n",
    "    sh = int(input(\"Enter Shift \"))\n",
    "    return sh\n",
    "\n",
    "def get_stretch():\n",
    "    #ask for stretch\n",
    "    st = int(input(\"Enter a stretch \"))\n",
    "    return st\n",
    "\n",
    "def encode():\n",
    "    pass\n",
    "\n",
    "def decode():\n",
    "    pass\n",
    "\n",
    "#Main\n",
    "choice = \"z\"\n",
    "while choice != \"Q\":\n",
    "    choice = menu()\n",
    "    choice = choice.upper()\n",
    "    if choice == \"1\":\n",
    "        #Enter Shift\n",
    "        shift = get_shift()\n",
    "        print(shift)\n",
    "    elif choice == \"2\":\n",
    "        #Enter Stretch\n",
    "        stretch = get_stretch()\n",
    "        print(stretch)\n",
    "    elif choice == \"3\":\n",
    "        #Encode Message\n",
    "        encode()\n",
    "    elif choice == \"4\":\n",
    "        #Decode Message\n",
    "        decode()\n",
    "    elif choice == \"Q\":\n",
    "        #Quit\n",
    "        print(\"Q\")\n",
    "        break\n",
    "    else:\n",
    "        #Try Again\n",
    "        pass\n",
    "        "
   ]
  },
  {
   "cell_type": "code",
   "execution_count": 4,
   "metadata": {},
   "outputs": [
    {
     "name": "stdout",
     "output_type": "stream",
     "text": [
      "Enter a shift 5\n",
      "Enter a message to code hi\n",
      "hi\n",
      " mn\n"
     ]
    }
   ],
   "source": [
    "#encode shift\n",
    "int_shift = int( input(\"Enter a shift \"))\n",
    "str_codemsg =\" \"\n",
    "str_alpha = \"abcdefghijklmnopqrstuvwxyz\"\n",
    "str_plaintext = input(\"Enter a message to code \")\n",
    "for letter in str_plaintext:\n",
    "    int_plainnum = str_alpha.find(letter)\n",
    "    if int_plainnum == -1:\n",
    "        #its a space\n",
    "        str_codetext = \" \"\n",
    "    else:\n",
    "        int_codenum = int_plainnum + int_shift\n",
    "        int_codenum = int_codenum%26\n",
    "        str_codetext = str_alpha[int_codenum]\n",
    "    str_codemsg =str_codemsg +str_codetext\n",
    "print(str_plaintext)\n",
    "print(str_codemsg)\n",
    "    #print(letter,int_plainnum,int_codenum,str_codetext)\n",
    "    "
   ]
  },
  {
   "cell_type": "code",
   "execution_count": 8,
   "metadata": {},
   "outputs": [
    {
     "name": "stdout",
     "output_type": "stream",
     "text": [
      "Enter a shift 5\n",
      "Enter what you want to decode mn\n",
      "mn\n",
      " hi\n"
     ]
    }
   ],
   "source": [
    "#decode shift\n",
    "int_shift = int( input(\"Enter a shift \"))\n",
    "str_codemsg =\" \"\n",
    "str_alpha = \"abcdefghijklmnopqrstuvwxyz\"\n",
    "str_plaintext = input( \"Enter what you want to decode \")\n",
    "for letter in str_plaintext:\n",
    "    int_plainnum = str_alpha.find(letter)\n",
    "    if int_plainnum == -1:\n",
    "        #its a space\n",
    "        str_codetext = \" \"\n",
    "    else:\n",
    "        int_codenum = int_plainnum - int_shift\n",
    "        int_codenum = int_codenum%26\n",
    "        str_codetext = str_alpha[int_codenum]\n",
    "    str_codemsg =str_codemsg +str_codetext\n",
    "print(str_plaintext)\n",
    "print(str_codemsg)"
   ]
  },
  {
   "cell_type": "code",
   "execution_count": 11,
   "metadata": {},
   "outputs": [
    {
     "name": "stdout",
     "output_type": "stream",
     "text": [
      "abcdefghijklmnopqrstuvwxyz\n",
      " agmsyekqwciouagmsyekqwciou\n"
     ]
    }
   ],
   "source": [
    "#encode stretch\n",
    "int_stretch = 6\n",
    "str_codemsg =\" \"\n",
    "str_alpha = \"abcdefghijklmnopqrstuvwxyz\"\n",
    "str_plaintext = \"abcdefghijklmnopqrstuvwxyz\"\n",
    "for letter in str_plaintext:\n",
    "    int_plainnum = str_alpha.find(letter)\n",
    "    if int_plainnum == -1:\n",
    "        #its a space\n",
    "        str_codetext = \" \"\n",
    "    else:\n",
    "        int_codenum = int_plainnum * int_stretch\n",
    "        int_codenum = int_codenum%26\n",
    "        str_codetext = str_alpha[int_codenum]\n",
    "    str_codemsg =str_codemsg +str_codetext\n",
    "print(str_plaintext)\n",
    "print(str_codemsg)"
   ]
  },
  {
   "cell_type": "code",
   "execution_count": 16,
   "metadata": {},
   "outputs": [
    {
     "name": "stdout",
     "output_type": "stream",
     "text": [
      " | | \n",
      "-----\n",
      " | | \n"
     ]
    }
   ],
   "source": [
    "board= "
   ]
  },
  {
   "cell_type": "code",
   "execution_count": null,
   "metadata": {},
   "outputs": [],
   "source": []
  }
 ],
 "metadata": {
  "kernelspec": {
   "display_name": "Python 3",
   "language": "python",
   "name": "python3"
  },
  "language_info": {
   "codemirror_mode": {
    "name": "ipython",
    "version": 3
   },
   "file_extension": ".py",
   "mimetype": "text/x-python",
   "name": "python",
   "nbconvert_exporter": "python",
   "pygments_lexer": "ipython3",
   "version": "3.6.5"
  }
 },
 "nbformat": 4,
 "nbformat_minor": 2
}
