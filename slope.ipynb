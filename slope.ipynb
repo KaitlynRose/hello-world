{
 "cells": [
  {
   "cell_type": "code",
   "execution_count": 6,
   "metadata": {},
   "outputs": [
    {
     "name": "stdout",
     "output_type": "stream",
     "text": [
      "Enter x1 3\n",
      "Enter y1 9\n",
      "Enter x1 12\n",
      "Enter y2 15\n",
      "The slope is 0.6666666666666666\n"
     ]
    }
   ],
   "source": [
    "x1 = int(input(\"Enter x1 \"))\n",
    "y1 = int(input(\"Enter y1 \"))\n",
    "x2 = int(input(\"Enter x1 \"))\n",
    "y2 = int(input(\"Enter y2 \"))\n",
    "slope = (y2-y1)/(x2-x1)\n",
    "b = y1 - slope * x1\n",
    "print(\"The slope is\", slope)"
   ]
  },
  {
   "cell_type": "code",
   "execution_count": null,
   "metadata": {},
   "outputs": [],
   "source": []
  }
 ],
 "metadata": {
  "kernelspec": {
   "display_name": "Python 3",
   "language": "python",
   "name": "python3"
  },
  "language_info": {
   "codemirror_mode": {
    "name": "ipython",
    "version": 3
   },
   "file_extension": ".py",
   "mimetype": "text/x-python",
   "name": "python",
   "nbconvert_exporter": "python",
   "pygments_lexer": "ipython3",
   "version": "3.6.5"
  }
 },
 "nbformat": 4,
 "nbformat_minor": 2
}
